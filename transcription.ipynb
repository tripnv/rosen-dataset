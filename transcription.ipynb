{
 "cells": [
  {
   "cell_type": "code",
   "execution_count": 2,
   "metadata": {},
   "outputs": [],
   "source": [
    "import os\n",
    "import numpy\n",
    "from tqdm import tqdm"
   ]
  },
  {
   "cell_type": "code",
   "execution_count": 3,
   "metadata": {},
   "outputs": [],
   "source": [
    "import json"
   ]
  },
  {
   "cell_type": "code",
   "execution_count": 4,
   "metadata": {},
   "outputs": [],
   "source": [
    "# import sys, codecs\n",
    "# sys.stdout = codecs.getwriter(\"utf-8\")(sys.stdout)"
   ]
  },
  {
   "cell_type": "code",
   "execution_count": 5,
   "metadata": {},
   "outputs": [
    {
     "name": "stderr",
     "output_type": "stream",
     "text": [
      "/home/mikhailtal/mambaforge/envs/rosen@3.9.9/lib/python3.9/site-packages/tqdm/auto.py:22: TqdmWarning: IProgress not found. Please update jupyter and ipywidgets. See https://ipywidgets.readthedocs.io/en/stable/user_install.html\n",
      "  from .autonotebook import tqdm as notebook_tqdm\n"
     ]
    }
   ],
   "source": [
    "from whisper import load_audio, load_model\n"
   ]
  },
  {
   "cell_type": "code",
   "execution_count": 6,
   "metadata": {},
   "outputs": [],
   "source": [
    "# whisper.available_models()"
   ]
  },
  {
   "cell_type": "code",
   "execution_count": 7,
   "metadata": {},
   "outputs": [],
   "source": [
    "model = load_model(name = 'large-v1')"
   ]
  },
  {
   "cell_type": "code",
   "execution_count": null,
   "metadata": {},
   "outputs": [],
   "source": []
  },
  {
   "cell_type": "code",
   "execution_count": 8,
   "metadata": {},
   "outputs": [],
   "source": [
    "BASE_SOURCE_PATH = 'wav_outputs/'\n",
    "BASE_DESTINATION_PATH = 'transcriptions_2/'"
   ]
  },
  {
   "cell_type": "code",
   "execution_count": 9,
   "metadata": {},
   "outputs": [
    {
     "name": "stderr",
     "output_type": "stream",
     "text": [
      "  0%|          | 0/77 [00:00<?, ?it/s]"
     ]
    }
   ],
   "source": [
    "for fname in tqdm(os.listdir(BASE_SOURCE_PATH)):\n",
    "    full_path = BASE_SOURCE_PATH + fname\n",
    "    # destination_full_path = f\"{BASE_DESTINATION_PATH}/{'_'.join(fname.split(' ')[-3:])}\".replace('wav', 'json')\n",
    "    destination_full_path = full_path.replace('Ședința Senatului României din data de ', '').replace('-', '').replace(' ', '_').replace('__', '_')\n",
    "    destination_full_path = destination_full_path.replace(BASE_SOURCE_PATH, BASE_DESTINATION_PATH)\n",
    "    \n",
    "    audio = load_audio(full_path)\n",
    "    transcription = model.transcribe(audio = audio, language = \"Romanian\", verbose = False)\n",
    "    with open(destination_full_path, 'w') as f:\n",
    "        json.dump(transcription, f, indent=4, ensure_ascii=False)"
   ]
  },
  {
   "cell_type": "markdown",
   "metadata": {},
   "source": []
  }
 ],
 "metadata": {
  "kernelspec": {
   "display_name": "rosen@3.9.9",
   "language": "python",
   "name": "python3"
  },
  "language_info": {
   "codemirror_mode": {
    "name": "ipython",
    "version": 3
   },
   "file_extension": ".py",
   "mimetype": "text/x-python",
   "name": "python",
   "nbconvert_exporter": "python",
   "pygments_lexer": "ipython3",
   "version": "3.9.9"
  },
  "orig_nbformat": 4,
  "vscode": {
   "interpreter": {
    "hash": "88d5a28c6b90f1b71b66cafcb42070d17c694c4a4a2d78d7b297d05c9d939878"
   }
  }
 },
 "nbformat": 4,
 "nbformat_minor": 2
}
