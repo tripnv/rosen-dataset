S T E N O G R A M A 
şedinţei Senatului din 21 decembrie 2022 
 
S U M A R 
 


S T E N O G R A M A 
şedinţei Senatului din 21 decembrie 2022 
Domnul Virgil Guran: 
Domnul Ștefan-Radu Oprea: 
Domnul Virgil Guran: 
Domnul Claudiu-Richard Târziu: 
Domnul Virgil Guran: 
Domnul Cătălin-Daniel Fenechiu: 
Domnul Virgil Guran: 
Domnul Claudiu-Richard Târziu: 
Domnul Virgil Guran: 
Domnul Raoul-Adrian Trifan: 
Domnul Virgil Guran: 
Domnul Ștefan-Radu Oprea: 
Domnul Virgil Guran: 
Doamna Lucica Dina Muntean: 

 
Domnul Virgil Guran: 
Domnul Titus Corlăţean: 


Domnul Virgil Guran:
Doamna Diana Iovanovici-Șoșoacă: 

Domnul Virgil Guran: 
Domnul Claudiu-Richard Târziu: 
Domnul Virgil Guran: 
Domnul Ambrozie-Irineu Darău: 
Domnul Virgil Guran: 
Domnul Mircea Dăneasă: 
Domnul Virgil Guran:
Doamna Diana Iovanovici-Șoșoacă: 
Domnul Virgil Guran: 
Doamna Diana Iovanovici-Șoșoacă: 
Domnul Virgil Guran: 
Domnul Marius Humelnicu: 
Domnul Virgil Guran: 
Domnul Claudiu-Richard Târziu: 
Domnul Virgil Guran: 
Domnul Claudiu-Richard Târziu: 
Domnul Virgil Guran: 
Domnul Raoul-Adrian Trifan: 
Domnul Virgil Guran: 
Domnul Raoul-Adrian Trifan: 
Domnul Virgil Guran: 
Domnul Raoul-Adrian Trifan: 
Domnul Virgil Guran: 
Doamna Nicoleta Pauliuc: 
Domnul Virgil Guran: 
Doamna Nicoleta Pauliuc: 
Domnul Virgil Guran: 
Doamna Diana Iovanovici-Șoșoacă: 
Domnul Virgil Guran: 
Doamna Diana Iovanovici-Șoșoacă: 
Domnul Virgil Guran: 
Domnul Sebastian Cernic: 
Domnul Virgil Guran: 
Domnul Sebastian Cernic: 
Domnul Virgil Guran: 
Domnul Sebastian Cernic: 
Domnul Virgil Guran: 
Domnul Ionel-Dănuț Cristescu: 
Domnul Virgil Guran: 
Domnul Ion-Narcis Mircescu (de la prezidiu): 
Domnul Virgil Guran: 
Doamna Anca Dana Dragu: 
Domnul Virgil Guran: 

Domnul Ionel-Dănuț Cristescu: 
Domnul Virgil Guran: 
Domnul Ionel-Dănuț Cristescu: 
Domnul Virgil Guran: 
Domnul Ionel-Dănuț Cristescu: 
Domnul Virgil Guran: 
Domnul Eugen-Remus Negoi: 
Domnul Virgil Guran: 
Doamna Silvia-Monica Dinică: 
Domnul Virgil Guran: 
Domnul Claudiu-Richard Târziu: 
Domnul Virgil Guran: 
Domnul Claudiu-Richard Târziu: 
Domnul Virgil Guran: 
Doamna Diana Iovanovici-Șoșoacă: 
Domnul Virgil Guran: 
Domnul Ion-Narcis Mircescu: 
Domnul Virgil Guran: 
Domnul Ion-Narcis Mircescu: 
Domnul Virgil Guran: 
Doamna Lucica Dina Muntean: 
Domnul Virgil Guran: 
Doamna Lucica Dina Muntean: 
Domnul Virgil Guran: 
Domnul Ambrozie-Irineu Darău: 
Domnul Virgil Guran: 
Domnul Ambrozie-Irineu Darău: 
Domnul Virgil Guran: 
Domnul Ambrozie-Irineu Darău: 
Domnul Virgil Guran: 
Domnul Ambrozie-Irineu Darău: 
Domnul Virgil Guran: 
Domnul Ambrozie-Irineu Darău: 
Domnul Virgil Guran: 
Domnul Ambrozie-Irineu Darău: 
Domnul Virgil Guran: 
Domnul Ambrozie-Irineu Darău: 
Domnul Virgil Guran: 
Domnul Ambrozie-Irineu Darău: 
Domnul Virgil Guran: 
Domnul Ambrozie-Irineu Darău: 
Domnul Virgil Guran: 
Domnul Claudiu-Richard Târziu: 
Domnul Virgil Guran: 
Domnul Claudiu-Richard Târziu: 
Domnul Virgil Guran: 
Domnul Claudiu-Richard Târziu: 
Domnul Virgil Guran: 
Domnul Ion-Narcis Mircescu (de la prezidiu): 
Domnul Virgil Guran: 
Doamna Evdochia Aelenei: 
Domnul Virgil Guran: 







Domnul Ambrozie-Irineu Darău: 
Domnul Virgil Guran: 
Domnul Ion-Narcis Mircescu (de la prezidiu): 
Domnul Virgil Guran: 
Domnul Cristinel-Gabriel Berea: 
Domnul Virgil Guran: 
 
