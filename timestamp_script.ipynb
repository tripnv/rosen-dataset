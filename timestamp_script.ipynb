{
 "cells": [
  {
   "cell_type": "code",
   "execution_count": 1,
   "id": "2254174a",
   "metadata": {},
   "outputs": [],
   "source": [
    "import pandas as pd\n",
    "import json\n",
    "import re\n",
    "import numpy as np"
   ]
  },
  {
   "cell_type": "code",
   "execution_count": 29,
   "id": "ae455708",
   "metadata": {},
   "outputs": [],
   "source": [
    "from unidecode import unidecode\n",
    "from num2words import num2words\n",
    "from nltk.stem import WordNetLemmatizer \n",
    "from fuzzywuzzy import fuzz\n",
    "\n",
    "def text_cleaning(text):\n",
    "    \n",
    "    text = text.lower()\n",
    "    text = text.replace(\"art.\", \"art \")\n",
    "    \n",
    "    text = unidecode(text)\n",
    "\n",
    "    # replace spaces\n",
    "    text = re.sub(\"\\s\\s+\", ' ', text)\n",
    "\n",
    "    # parenthesis\n",
    "    text = re.sub(\"\\(.+?\\)\", ' ', text)\n",
    "\n",
    "    # page number\n",
    "    text = re.sub(\"-\\s[0-9]+\\s-\", '', text)\n",
    "\n",
    "    # special characters\n",
    "    text = re.sub(\"[^\\w\\s]\", ' ', text)\n",
    "    \n",
    "    # replace spaces\n",
    "    text = re.sub(\"\\s\\s+\", ' ', text)\n",
    "    \n",
    "    text = text.split(\" \")\n",
    "    text = [num2words(word, lang = 'ro') if word.isnumeric() else word for word in text]\n",
    "    \n",
    "    text = \" \".join(text)\n",
    "    \n",
    "    text = unidecode(text)\n",
    "\n",
    "    return text\n",
    "\n",
    "def fuzzy_search2(phrase, corpus):\n",
    "    #phrase = text_cleaning(phrase)\n",
    "    value = fuzz.token_set_ratio(corpus, phrase)\n",
    "    if value >= 80:\n",
    "        return True\n",
    "    \n",
    "    return False\n",
    "\n",
    "def get_timestamp_for_steno(steno, df_transcript):\n",
    "    \n",
    "    # Todo: daca cubul are ca maxim valori negative atunci ignori\n",
    "    \n",
    "    #print(\"sample\")\n",
    "    \n",
    "    # get is in corpus\n",
    "    df_transcript['in_corpus'] = df_transcript['text'].map(lambda x: fuzzy_search2(x, steno))\n",
    "    \n",
    "    # count consecutive True values\n",
    "    g = df_transcript['in_corpus'].ne(df_transcript['in_corpus'].shift()).cumsum()\n",
    "    df_transcript['Count'] = df_transcript.groupby(g)['in_corpus'].transform('size') * np.where(df_transcript['in_corpus'], 1, -1)\n",
    "    \n",
    "    # get max of consecutive True values\n",
    "    max_consecutive = df_transcript['Count'].max()\n",
    "    \n",
    "    # filter the cube\n",
    "    # Todo: take first max_consecutive\n",
    "    df_cube = df_transcript[df_transcript['Count'] == max_consecutive]\n",
    "    \n",
    "    # return start timestamp, end timestamp\n",
    "    return (df_cube['start'].min(), df_cube['start'].max())\n",
    "\n",
    "def get_timestamp_for_steno_2(steno, df_transcript):\n",
    "    \n",
    "    # get is in corpus\n",
    "    transcript_text = df_transcript['text'].to_numpy()\n",
    "    in_corpus = [fuzzy_search2(transcript, steno) for transcript in transcript_text]\n",
    "    #df_transcript['in_corpus'] = df_transcript['text'].map(lambda x: fuzzy_search2(x, steno))\n",
    "    df_transcript['in_corpus'] = in_corpus\n",
    "    \n",
    "    # count consecutive True values\n",
    "    g = df_transcript['in_corpus'].ne(df_transcript['in_corpus'].shift()).cumsum()\n",
    "    df_transcript['Count'] = df_transcript.groupby(g)['in_corpus'].transform('size') * np.where(df_transcript['in_corpus'], 1, -1)\n",
    "    \n",
    "    # get max of consecutive True values\n",
    "    max_consecutive = df_transcript['Count'].max()\n",
    "    \n",
    "    # filter the cube\n",
    "    df_cube = df_transcript[df_transcript['Count'] == max_consecutive]\n",
    "    \n",
    "    # asta e pentru fisier\n",
    "    # return (df_cube['start'].min(), df_cube['start'].max())\n",
    "    \n",
    "    # asta e pentru vizualizare cub\n",
    "    # return (df_cube['start'].min(), df_cube['end'].max(), df_cube)\n",
    "\n",
    "    "
   ]
  },
  {
   "cell_type": "code",
   "execution_count": 3,
   "id": "7ca71383",
   "metadata": {},
   "outputs": [],
   "source": [
    "# Get steno\n",
    "df_steno = pd.read_json(\"/Users/andreibobes/Documents/Projects/NLP2/Rosen_Project/rosen-dataset/sample_data/pdf_extractions/seg_steno_86_21_decembrie_2022.json\")\n",
    "df_steno = df_steno.T"
   ]
  },
  {
   "cell_type": "code",
   "execution_count": 4,
   "id": "99a98e78",
   "metadata": {},
   "outputs": [],
   "source": [
    "# get transcript\n",
    "file = open(\"/Users/andreibobes/Documents/Projects/NLP2/Rosen_Project/rosen-dataset/sample_data/transcriptions/21_Decembrie_202200001.json\")\n",
    "data = json.load(file)\n",
    "df_transcript = pd.DataFrame.from_dict(data['segments'])"
   ]
  },
  {
   "cell_type": "code",
   "execution_count": 5,
   "id": "18dbeb65",
   "metadata": {},
   "outputs": [],
   "source": [
    "# clean steno\n",
    "df_steno['text'] = df_steno['text'].map(text_cleaning)\n",
    "df_transcript['text'] = df_transcript['text'].map(text_cleaning)"
   ]
  },
  {
   "cell_type": "code",
   "execution_count": null,
   "id": "3413bf36",
   "metadata": {},
   "outputs": [],
   "source": [
    "#df_steno['timestamp'] = df_steno['text'].apply(lambda x: get_timestamp_for_steno(x, df_transcript))"
   ]
  },
  {
   "cell_type": "code",
   "execution_count": 6,
   "id": "e88734e2",
   "metadata": {},
   "outputs": [
    {
     "name": "stdout",
     "output_type": "stream",
     "text": [
      "CPU times: user 532 µs, sys: 17 µs, total: 549 µs\n",
      "Wall time: 560 µs\n"
     ]
    }
   ],
   "source": [
    "%%time\n",
    "text = df_steno['text'].to_numpy()"
   ]
  },
  {
   "cell_type": "code",
   "execution_count": 30,
   "id": "1ce8e6c2",
   "metadata": {},
   "outputs": [
    {
     "name": "stdout",
     "output_type": "stream",
     "text": [
      "CPU times: user 3min 34s, sys: 3.82 s, total: 3min 38s\n",
      "Wall time: 3min 38s\n"
     ]
    }
   ],
   "source": [
    "%%time\n",
    "timestamp = [get_timestamp_for_steno_2(steno, df_transcript) for steno in text]"
   ]
  },
  {
   "cell_type": "code",
   "execution_count": 31,
   "id": "b6e7acaa",
   "metadata": {},
   "outputs": [],
   "source": [
    "df_steno['timestamp'] = timestamp"
   ]
  },
  {
   "cell_type": "code",
   "execution_count": 32,
   "id": "4cf21515",
   "metadata": {},
   "outputs": [],
   "source": [
    "df_steno.to_csv('steno_21_decembrie_2022_timestamps.csv')"
   ]
  },
  {
   "cell_type": "code",
   "execution_count": 22,
   "id": "3a781414",
   "metadata": {},
   "outputs": [],
   "source": [
    "steno = text[60]"
   ]
  },
  {
   "cell_type": "code",
   "execution_count": 23,
   "id": "888938ce",
   "metadata": {},
   "outputs": [
    {
     "data": {
      "text/plain": [
       "' multumesc domnule presedinte vreau sa va spun ca domnul de la usr colegul meu a fost total defazat nu are nicio legatura cu initiativa legislativa noi aici vorbim de pana la urma de doua sute saizeci si doi de centre locale ale agentiei de plati si interventii in agricultura si de patruzeci si doi de judete care trebuie sa ajunga la nivelul salariilor celui din aparatul central vorbim de niste oameni care se ocupa de dimineata pana seara de subventiile pe care le primesc cei din agricultura si atunci ar trebui sa fie normal ca acesti oameni sa primeasca salariul similar ca cei din aparatul central despre asta este vorba stimate coleg nu despre ce ati batut dumneavoastra campii in aceste doua minute va multumesc noi vom vota pentru partidul social democrat pentru acest proiect si pentru aceasta initiativa legislativa va multumesc '"
      ]
     },
     "execution_count": 23,
     "metadata": {},
     "output_type": "execute_result"
    }
   ],
   "source": [
    "steno"
   ]
  },
  {
   "cell_type": "code",
   "execution_count": 24,
   "id": "1f2414c2",
   "metadata": {},
   "outputs": [],
   "source": [
    "start, end, df = get_timestamp_for_steno_2(steno, df_transcript)"
   ]
  },
  {
   "cell_type": "code",
   "execution_count": 25,
   "id": "57acc8f8",
   "metadata": {},
   "outputs": [
    {
     "name": "stderr",
     "output_type": "stream",
     "text": [
      "/var/folders/b0/nrwjbmq57vl86g88cs5d5zv80000gn/T/ipykernel_55569/3431322156.py:1: SettingWithCopyWarning: \n",
      "A value is trying to be set on a copy of a slice from a DataFrame.\n",
      "Try using .loc[row_indexer,col_indexer] = value instead\n",
      "\n",
      "See the caveats in the documentation: https://pandas.pydata.org/pandas-docs/stable/user_guide/indexing.html#returning-a-view-versus-a-copy\n",
      "  df['start'] = df['start'].map(lambda x: divmod(x, 60))\n",
      "/var/folders/b0/nrwjbmq57vl86g88cs5d5zv80000gn/T/ipykernel_55569/3431322156.py:2: SettingWithCopyWarning: \n",
      "A value is trying to be set on a copy of a slice from a DataFrame.\n",
      "Try using .loc[row_indexer,col_indexer] = value instead\n",
      "\n",
      "See the caveats in the documentation: https://pandas.pydata.org/pandas-docs/stable/user_guide/indexing.html#returning-a-view-versus-a-copy\n",
      "  df['end'] = df['end'].map(lambda x: divmod(x, 60))\n"
     ]
    }
   ],
   "source": [
    "df['start'] = df['start'].map(lambda x: divmod(x, 60))\n",
    "df['end'] = df['end'].map(lambda x: divmod(x, 60))"
   ]
  },
  {
   "cell_type": "code",
   "execution_count": 26,
   "id": "cc40f914",
   "metadata": {},
   "outputs": [
    {
     "data": {
      "text/html": [
       "<div>\n",
       "<style scoped>\n",
       "    .dataframe tbody tr th:only-of-type {\n",
       "        vertical-align: middle;\n",
       "    }\n",
       "\n",
       "    .dataframe tbody tr th {\n",
       "        vertical-align: top;\n",
       "    }\n",
       "\n",
       "    .dataframe thead th {\n",
       "        text-align: right;\n",
       "    }\n",
       "</style>\n",
       "<table border=\"1\" class=\"dataframe\">\n",
       "  <thead>\n",
       "    <tr style=\"text-align: right;\">\n",
       "      <th></th>\n",
       "      <th>id</th>\n",
       "      <th>seek</th>\n",
       "      <th>start</th>\n",
       "      <th>end</th>\n",
       "      <th>text</th>\n",
       "      <th>tokens</th>\n",
       "      <th>temperature</th>\n",
       "      <th>avg_logprob</th>\n",
       "      <th>compression_ratio</th>\n",
       "      <th>no_speech_prob</th>\n",
       "      <th>in_corpus</th>\n",
       "      <th>Count</th>\n",
       "    </tr>\n",
       "  </thead>\n",
       "  <tbody>\n",
       "    <tr>\n",
       "      <th>408</th>\n",
       "      <td>408</td>\n",
       "      <td>455450</td>\n",
       "      <td>(75.0, 54.5)</td>\n",
       "      <td>(75.0, 56.5)</td>\n",
       "      <td>multumesc domnule presedinte</td>\n",
       "      <td>[29960, 15918, 10018, 66, 11, 3285, 77, 2271, ...</td>\n",
       "      <td>0.0</td>\n",
       "      <td>-0.146330</td>\n",
       "      <td>1.447471</td>\n",
       "      <td>2.147767e-08</td>\n",
       "      <td>True</td>\n",
       "      <td>7</td>\n",
       "    </tr>\n",
       "    <tr>\n",
       "      <th>409</th>\n",
       "      <td>409</td>\n",
       "      <td>455450</td>\n",
       "      <td>(75.0, 56.5)</td>\n",
       "      <td>(76.0, 6.5)</td>\n",
       "      <td>vreau sa va spun ca domnul de la usr colegul ...</td>\n",
       "      <td>[691, 265, 1459, 15446, 371, 4089, 37038, 2195...</td>\n",
       "      <td>0.0</td>\n",
       "      <td>-0.146330</td>\n",
       "      <td>1.447471</td>\n",
       "      <td>2.147767e-08</td>\n",
       "      <td>True</td>\n",
       "      <td>7</td>\n",
       "    </tr>\n",
       "    <tr>\n",
       "      <th>410</th>\n",
       "      <td>410</td>\n",
       "      <td>455450</td>\n",
       "      <td>(76.0, 6.5)</td>\n",
       "      <td>(76.0, 19.5)</td>\n",
       "      <td>noi aici vorbim de pana la urma de doua sute ...</td>\n",
       "      <td>[883, 72, 257, 8787, 4245, 65, 332, 368, 280, ...</td>\n",
       "      <td>0.0</td>\n",
       "      <td>-0.146330</td>\n",
       "      <td>1.447471</td>\n",
       "      <td>2.147767e-08</td>\n",
       "      <td>True</td>\n",
       "      <td>7</td>\n",
       "    </tr>\n",
       "    <tr>\n",
       "      <th>411</th>\n",
       "      <td>411</td>\n",
       "      <td>457950</td>\n",
       "      <td>(76.0, 19.5)</td>\n",
       "      <td>(76.0, 27.5)</td>\n",
       "      <td>vorbim de niste oameni care se ocupa de dimin...</td>\n",
       "      <td>[12231, 65, 332, 368, 3867, 10355, 975, 277, 3...</td>\n",
       "      <td>0.0</td>\n",
       "      <td>-0.095032</td>\n",
       "      <td>1.497872</td>\n",
       "      <td>8.494594e-08</td>\n",
       "      <td>True</td>\n",
       "      <td>7</td>\n",
       "    </tr>\n",
       "    <tr>\n",
       "      <th>412</th>\n",
       "      <td>412</td>\n",
       "      <td>457950</td>\n",
       "      <td>(76.0, 27.5)</td>\n",
       "      <td>(76.0, 35.5)</td>\n",
       "      <td>si atunci ar trebui sa fie normal ca acesti o...</td>\n",
       "      <td>[41820, 412, 11228, 594, 2192, 65, 3077, 15446...</td>\n",
       "      <td>0.0</td>\n",
       "      <td>-0.095032</td>\n",
       "      <td>1.497872</td>\n",
       "      <td>8.494594e-08</td>\n",
       "      <td>True</td>\n",
       "      <td>7</td>\n",
       "    </tr>\n",
       "    <tr>\n",
       "      <th>413</th>\n",
       "      <td>413</td>\n",
       "      <td>457950</td>\n",
       "      <td>(76.0, 35.5)</td>\n",
       "      <td>(76.0, 41.5)</td>\n",
       "      <td>despre asta este vorba stimata coleg nu despr...</td>\n",
       "      <td>[3885, 3712, 43405, 4065, 4245, 4231, 342, 332...</td>\n",
       "      <td>0.0</td>\n",
       "      <td>-0.095032</td>\n",
       "      <td>1.497872</td>\n",
       "      <td>8.494594e-08</td>\n",
       "      <td>True</td>\n",
       "      <td>7</td>\n",
       "    </tr>\n",
       "    <tr>\n",
       "      <th>414</th>\n",
       "      <td>414</td>\n",
       "      <td>460150</td>\n",
       "      <td>(76.0, 41.5)</td>\n",
       "      <td>(76.0, 52.5)</td>\n",
       "      <td>va multumesc noi vom vota pentru partidul soc...</td>\n",
       "      <td>[691, 4089, 14077, 15918, 10018, 66, 11, 22447...</td>\n",
       "      <td>0.0</td>\n",
       "      <td>-0.136588</td>\n",
       "      <td>1.467337</td>\n",
       "      <td>1.837085e-08</td>\n",
       "      <td>True</td>\n",
       "      <td>7</td>\n",
       "    </tr>\n",
       "  </tbody>\n",
       "</table>\n",
       "</div>"
      ],
      "text/plain": [
       "      id    seek         start           end  \\\n",
       "408  408  455450  (75.0, 54.5)  (75.0, 56.5)   \n",
       "409  409  455450  (75.0, 56.5)   (76.0, 6.5)   \n",
       "410  410  455450   (76.0, 6.5)  (76.0, 19.5)   \n",
       "411  411  457950  (76.0, 19.5)  (76.0, 27.5)   \n",
       "412  412  457950  (76.0, 27.5)  (76.0, 35.5)   \n",
       "413  413  457950  (76.0, 35.5)  (76.0, 41.5)   \n",
       "414  414  460150  (76.0, 41.5)  (76.0, 52.5)   \n",
       "\n",
       "                                                  text  \\\n",
       "408                      multumesc domnule presedinte    \n",
       "409   vreau sa va spun ca domnul de la usr colegul ...   \n",
       "410   noi aici vorbim de pana la urma de doua sute ...   \n",
       "411   vorbim de niste oameni care se ocupa de dimin...   \n",
       "412   si atunci ar trebui sa fie normal ca acesti o...   \n",
       "413   despre asta este vorba stimata coleg nu despr...   \n",
       "414   va multumesc noi vom vota pentru partidul soc...   \n",
       "\n",
       "                                                tokens  temperature  \\\n",
       "408  [29960, 15918, 10018, 66, 11, 3285, 77, 2271, ...          0.0   \n",
       "409  [691, 265, 1459, 15446, 371, 4089, 37038, 2195...          0.0   \n",
       "410  [883, 72, 257, 8787, 4245, 65, 332, 368, 280, ...          0.0   \n",
       "411  [12231, 65, 332, 368, 3867, 10355, 975, 277, 3...          0.0   \n",
       "412  [41820, 412, 11228, 594, 2192, 65, 3077, 15446...          0.0   \n",
       "413  [3885, 3712, 43405, 4065, 4245, 4231, 342, 332...          0.0   \n",
       "414  [691, 4089, 14077, 15918, 10018, 66, 11, 22447...          0.0   \n",
       "\n",
       "     avg_logprob  compression_ratio  no_speech_prob  in_corpus  Count  \n",
       "408    -0.146330           1.447471    2.147767e-08       True      7  \n",
       "409    -0.146330           1.447471    2.147767e-08       True      7  \n",
       "410    -0.146330           1.447471    2.147767e-08       True      7  \n",
       "411    -0.095032           1.497872    8.494594e-08       True      7  \n",
       "412    -0.095032           1.497872    8.494594e-08       True      7  \n",
       "413    -0.095032           1.497872    8.494594e-08       True      7  \n",
       "414    -0.136588           1.467337    1.837085e-08       True      7  "
      ]
     },
     "execution_count": 26,
     "metadata": {},
     "output_type": "execute_result"
    }
   ],
   "source": [
    "df"
   ]
  },
  {
   "cell_type": "code",
   "execution_count": null,
   "id": "f06e47a0",
   "metadata": {},
   "outputs": [],
   "source": [
    "end"
   ]
  },
  {
   "cell_type": "code",
   "execution_count": null,
   "id": "9a845e9b",
   "metadata": {},
   "outputs": [],
   "source": [
    "df.to_csv(\"new_transcript.csv\")"
   ]
  },
  {
   "cell_type": "code",
   "execution_count": null,
   "id": "ee5420d8",
   "metadata": {},
   "outputs": [],
   "source": []
  }
 ],
 "metadata": {
  "kernelspec": {
   "display_name": "Python 3 (ipykernel)",
   "language": "python",
   "name": "python3"
  },
  "language_info": {
   "codemirror_mode": {
    "name": "ipython",
    "version": 3
   },
   "file_extension": ".py",
   "mimetype": "text/x-python",
   "name": "python",
   "nbconvert_exporter": "python",
   "pygments_lexer": "ipython3",
   "version": "3.9.13"
  }
 },
 "nbformat": 4,
 "nbformat_minor": 5
}
